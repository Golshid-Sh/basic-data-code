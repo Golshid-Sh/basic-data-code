{
 "cells": [
  {
   "cell_type": "code",
   "execution_count": 2,
   "id": "2b15217a",
   "metadata": {},
   "outputs": [
    {
     "name": "stderr",
     "output_type": "stream",
     "text": [
      "C:\\Users\\golshid\\anaconda3\\lib\\site-packages\\sklearn\\utils\\deprecation.py:87: FutureWarning: Function get_feature_names is deprecated; get_feature_names is deprecated in 1.0 and will be removed in 1.2. Please use get_feature_names_out instead.\n",
      "  warnings.warn(msg, category=FutureWarning)\n"
     ]
    },
    {
     "data": {
      "text/plain": [
       "['OneHotEncoder.csv']"
      ]
     },
     "execution_count": 2,
     "metadata": {},
     "output_type": "execute_result"
    }
   ],
   "source": [
    "from sklearn.compose import ColumnTransformer\n",
    "from sklearn.preprocessing import OneHotEncoder\n",
    "import pandas as pd\n",
    "import joblib\n",
    "\n",
    "pricing_data = {'model' : ['X5', 'X5', 'X5', 'X5', 'X5', 'A5', 'A5', 'A5', 'A5', 'Benz', 'Benz', 'Benz', 'Benz'],\n",
    "                'mileage' : [69000, 35000, 57000, 22500, 46000, 59000, 52000, 72000, 91000, 67000, 83000, 79000, 59000],\n",
    "                'price' : [18000, 34000, 26100, 40000, 31500, 29400, 32000, 19300, 12000, 22000, 20000, 21000, 33000],\n",
    "                'age' : [6, 3, 5, 2, 4, 5, 5, 6, 8, 6, 7, 7, 5]\n",
    "               }\n",
    "df = pd.DataFrame(pricing_data)\n",
    "\n",
    "ct = ColumnTransformer([('one-hot-encoder', OneHotEncoder(drop='first'), ['model'])], remainder='passthrough')\n",
    "transformed = ct.fit_transform(df)\n",
    "transformed_df = pd.DataFrame(transformed, columns=ct.get_feature_names())\n",
    "transformed_df\n",
    "\n",
    "#save file\n",
    "filename = 'OneHotEncoder.csv'\n",
    "joblib.dump(transformed, filename)\n",
    "\n",
    "#from sklearn.compose import make_column_transformer\n",
    "#transformer = make_column_transformer( (OneHotEncoder(drop='first'), ['model']), remainder='passthrough')\n",
    "#transformed = transformer.fit_transform(df)\n",
    "#transformed"
   ]
  },
  {
   "cell_type": "code",
   "execution_count": null,
   "id": "4773e084",
   "metadata": {},
   "outputs": [],
   "source": []
  }
 ],
 "metadata": {
  "kernelspec": {
   "display_name": "Python 3 (ipykernel)",
   "language": "python",
   "name": "python3"
  },
  "language_info": {
   "codemirror_mode": {
    "name": "ipython",
    "version": 3
   },
   "file_extension": ".py",
   "mimetype": "text/x-python",
   "name": "python",
   "nbconvert_exporter": "python",
   "pygments_lexer": "ipython3",
   "version": "3.9.13"
  }
 },
 "nbformat": 4,
 "nbformat_minor": 5
}
