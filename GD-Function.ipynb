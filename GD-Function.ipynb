{
 "cells": [
  {
   "cell_type": "code",
   "execution_count": 1,
   "id": "6d68c79a",
   "metadata": {},
   "outputs": [],
   "source": [
    "import numpy as np\n",
    "\n",
    "def ssr_gradient(x, y, b):\n",
    "    res = b[0] + b[1] * x - y\n",
    "    return res.mean(), (res * x).mean()  # .mean() is a method of np.ndarray\n",
    "\n",
    "def gradient_descent(\n",
    "    gradient, x, y, start, learn_rate=0.1, n_iter=50, tolerance=1e-20\n",
    "):\n",
    "    vector = start\n",
    "    for _ in range(n_iter):\n",
    "        diff = -learn_rate * np.array(gradient(x, y, vector))\n",
    "        if np.all(np.abs(diff) <= tolerance):\n",
    "            break\n",
    "        vector += diff\n",
    "    return vector"
   ]
  },
  {
   "cell_type": "code",
   "execution_count": 2,
   "id": "851f3987",
   "metadata": {},
   "outputs": [],
   "source": [
    "x = np.array([92, 56, 88, 70, 80, 49, 65, 35, 66, 67])"
   ]
  },
  {
   "cell_type": "code",
   "execution_count": 3,
   "id": "8f34664e",
   "metadata": {},
   "outputs": [],
   "source": [
    "y = np.array([98, 68, 81, 80, 83, 52, 66, 30, 68, 73])"
   ]
  },
  {
   "cell_type": "code",
   "execution_count": null,
   "id": "0a3e125c",
   "metadata": {},
   "outputs": [],
   "source": [
    "gradient_descent(\n",
    "...     ssr_gradient, x, y, start=[1, 1], learn_rate=0.0001,\n",
    "...     n_iter=100000\n",
    "... )"
   ]
  }
 ],
 "metadata": {
  "kernelspec": {
   "display_name": "Python 3 (ipykernel)",
   "language": "python",
   "name": "python3"
  },
  "language_info": {
   "codemirror_mode": {
    "name": "ipython",
    "version": 3
   },
   "file_extension": ".py",
   "mimetype": "text/x-python",
   "name": "python",
   "nbconvert_exporter": "python",
   "pygments_lexer": "ipython3",
   "version": "3.9.13"
  }
 },
 "nbformat": 4,
 "nbformat_minor": 5
}
