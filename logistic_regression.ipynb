{
 "cells": [
  {
   "cell_type": "code",
   "execution_count": null,
   "id": "bd113ed1",
   "metadata": {},
   "outputs": [],
   "source": [
    "#importing libraries\n",
    "import pandas as pd\n",
    "import numpy as np\n",
    "import joblib\n",
    "from sklearn.linear_model import LogisticRegression\n",
    "from sklearn.model_selection import train_test_split\n",
    "\n",
    "#importing and preparing data\n",
    "salary_data = pd.read_csv(r'C:\\Users\\golshid\\OneDrive\\Desktop\\GL-internship-data science\\data-salary.csv')\n",
    "df = pd.DataFrame(salary_data)\n",
    "\n",
    "trans_df = pd.get_dummies(df, drop_first = True, columns=['Department'])\n",
    "\n",
    "#or use OneHotEncoder as below\n",
    "#from sklearn.compose import ColumnTransformer\n",
    "#from sklearn.preprocessing import OneHotEncoder\n",
    "#ct = ColumnTransformer([('One-Hot-Encoder', OneHotEncoder(drop = 'first'),['Department'])], remainder = 'passthrough')\n",
    "#transformed = ct.fit_transform(df)\n",
    "#transformed_df = pd.DataFrame(transformed, columns=ct.get_feature_names_out())\n",
    "\n",
    "#check for missing values\n",
    "trans_df.isnull().all()\n",
    "\n",
    "#split data in features and target variable\n",
    "X = trans_df.loc[:,trans_df.columns != 'salary']\n",
    "y = trans_df.loc [:, trans_df.columns == 'salary']\n",
    "\n",
    "#split data to test and train\n",
    "X_train, X_test, y_train, y_test = train_test_split(X, y, test_size=0.3, random_state=0)\n",
    "\n",
    "#applying logistic regression\n",
    "logreg = LogisticRegression(multi_class='multinomial', solver='lbfgs', max_iter=1000)\n",
    "logreg.fit(X_train, y_train.values.ravel())\n",
    "\n",
    "#predicting\n",
    "y_pred = logreg.predict(X_test)\n",
    "\n",
    "#save the model\n",
    "filename = 'logreg_pre.csv'\n",
    "joblib.dump(y_pred, filename)\n"
   ]
  }
 ],
 "metadata": {
  "kernelspec": {
   "display_name": "Python 3 (ipykernel)",
   "language": "python",
   "name": "python3"
  },
  "language_info": {
   "codemirror_mode": {
    "name": "ipython",
    "version": 3
   },
   "file_extension": ".py",
   "mimetype": "text/x-python",
   "name": "python",
   "nbconvert_exporter": "python",
   "pygments_lexer": "ipython3",
   "version": "3.9.13"
  }
 },
 "nbformat": 4,
 "nbformat_minor": 5
}
