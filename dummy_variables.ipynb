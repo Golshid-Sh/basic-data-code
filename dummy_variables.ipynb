{
 "cells": [
  {
   "cell_type": "code",
   "execution_count": null,
   "id": "8f4e6c44",
   "metadata": {},
   "outputs": [],
   "source": [
    "import pandas as pd\n",
    "import numpy as np\n",
    "import joblib\n",
    "\n",
    "#importing data set\n",
    "pricing_data = {'model' : ['X5', 'X5', 'X5', 'X5', 'X5', 'A5', 'A5', 'A5', 'A5', 'Benz', 'Benz', 'Benz', 'Benz'],\n",
    "                'mileage' : [69000, 35000, 57000, 22500, 46000, 59000, 52000, 72000, 91000, 67000, 83000, 79000, 59000],\n",
    "                'price' : [18000, 34000, 26100, 40000, 31500, 29400, 32000, 19300, 12000, 22000, 20000, 21000, 33000],\n",
    "                'age' : [6, 3, 5, 2, 4, 5, 5, 6, 8, 6, 7, 7, 5]\n",
    "               }\n",
    "df = pd.DataFrame(pricing_data)\n",
    "\n",
    "#creat dummy variables\n",
    "dummies = pd.get_dummies(df)\n",
    "\n",
    "#Dummy Variable Trap occurs when predictors are multicollinear or highly correlated so one predictor can predict another.\n",
    "#In this way if a dummy variable is dropped no relevant information will be lost as other dummy variables can explain it.\n",
    "\n",
    "#creat dummy variables avoid trapping \n",
    "dummies_NoTrap = pd.get_dummies(df, drop_first = True)\n",
    "\n",
    "#save the model\n",
    "filename = 'final_dummies.csv'\n",
    "joblib.dump(dummies_NoTrap, filename)"
   ]
  }
 ],
 "metadata": {
  "kernelspec": {
   "display_name": "Python 3 (ipykernel)",
   "language": "python",
   "name": "python3"
  },
  "language_info": {
   "codemirror_mode": {
    "name": "ipython",
    "version": 3
   },
   "file_extension": ".py",
   "mimetype": "text/x-python",
   "name": "python",
   "nbconvert_exporter": "python",
   "pygments_lexer": "ipython3",
   "version": "3.9.13"
  }
 },
 "nbformat": 4,
 "nbformat_minor": 5
}
