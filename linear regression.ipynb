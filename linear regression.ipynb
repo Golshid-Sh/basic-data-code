{
 "cells": [
  {
   "cell_type": "code",
   "execution_count": null,
   "id": "58ce7a21",
   "metadata": {},
   "outputs": [],
   "source": [
    "import pandas as pd\n",
    "import numpy as np\n",
    "from pandas import DataFrame\n",
    "from sklearn.linear_model import LinearRegression\n",
    "\n",
    "salary_data = {'experience': [np.nan, np.nan, 5, 2, 7, 3, 10, 11],\n",
    "               'test_score': [8, 8, 6, 10, 9, 7, np.nan, 7],\n",
    "               'interview_score': [9, 6, 7, 10, 6, 10, 7, 8],\n",
    "               'salary': [50000, 45000, 60000, 65000, 70000, 62000, 72000, 80000]\n",
    "              }\n",
    "df = DataFrame(salary_data,columns=['experience','test_score','interview_score','salary']) \n",
    "df = df.fillna(df.mean())\n",
    "df = df.round(decimals = 1)\n",
    "x = df.iloc[:, 0:3]\n",
    "y = df.iloc[:, 3]\n",
    "\n",
    "reg = LinearRegression().fit(x, y)\n",
    "reg.score(x, y)\n",
    "reg.coef_\n",
    "reg.intercept_\n",
    "# do some predictions\n",
    "print('The first predection result is :', reg.predict(np.array([[2, 9, 6]])))\n",
    "print('The second predection result is :', reg.predict(np.array([[12, 10, 10]])))\n",
    "\n"
   ]
  }
 ],
 "metadata": {
  "kernelspec": {
   "display_name": "Python 3 (ipykernel)",
   "language": "python",
   "name": "python3"
  },
  "language_info": {
   "codemirror_mode": {
    "name": "ipython",
    "version": 3
   },
   "file_extension": ".py",
   "mimetype": "text/x-python",
   "name": "python",
   "nbconvert_exporter": "python",
   "pygments_lexer": "ipython3",
   "version": "3.9.13"
  }
 },
 "nbformat": 4,
 "nbformat_minor": 5
}
